{
 "cells": [
  {
   "cell_type": "code",
   "execution_count": 13,
   "id": "a1087e29",
   "metadata": {},
   "outputs": [],
   "source": [
    "from tdoa_py.tdoa import *"
   ]
  },
  {
   "cell_type": "code",
   "execution_count": 14,
   "id": "6c87c6eb",
   "metadata": {},
   "outputs": [
    {
     "name": "stdout",
     "output_type": "stream",
     "text": [
      "Audio cargado: audios\\audio_corto.wav, Frecuencia de muestreo detectada: 48000 Hz\n",
      "Ángulo estimado: 192.28°, TDOA estimado: -0.012361 s\n"
     ]
    }
   ],
   "source": [
    "# Crear el objeto de carga de audio\n",
    "audio = AudioLoader(\"audios\", \"audio_corto.wav\")\n",
    "audio.load_audio()\n",
    "\n",
    "# Crear el array de micrófonos dentro de la sala\n",
    "mic_array = MicrophoneArray(n_mics=4, mic_origin=[5, 5, 1.5], displacement=0.5, axis='x')\n",
    "\n",
    "# Configurar la sala e inmersión del array de micrófonos\n",
    "room = RoomSimulation(room_dim=[10, 7, 3], rt60=0.4, microphone_array=mic_array, audio_loader=audio)\n",
    "room.setup_room()\n",
    "room.add_source(source_position=[4, 2, 1.2])\n",
    "room.simulate()\n",
    "\n",
    "# Obtener señales sin guardar archivos\n",
    "signals = room.room.mic_array.signals  \n",
    "\n",
    "# Estimar dirección de arribo en memoria\n",
    "avg_angle, avg_tdoa = DirectionEstimator.estimate_doa(signals, mic_d=0.5, fs=audio.fs)\n",
    "print(f\"Ángulo estimado: {avg_angle:.2f}°, TDOA estimado: {avg_tdoa:.6f} s\")\n",
    "\n",
    "# audio.visualize_audio()\n",
    "\n"
   ]
  }
 ],
 "metadata": {
  "kernelspec": {
   "display_name": ".venv",
   "language": "python",
   "name": "python3"
  },
  "language_info": {
   "codemirror_mode": {
    "name": "ipython",
    "version": 3
   },
   "file_extension": ".py",
   "mimetype": "text/x-python",
   "name": "python",
   "nbconvert_exporter": "python",
   "pygments_lexer": "ipython3",
   "version": "3.13.1"
  }
 },
 "nbformat": 4,
 "nbformat_minor": 5
}
