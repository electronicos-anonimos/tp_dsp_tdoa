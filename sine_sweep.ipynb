{
 "cells": [
  {
   "cell_type": "code",
   "execution_count": 1,
   "id": "00cd9ea9",
   "metadata": {},
   "outputs": [
    {
     "name": "stdout",
     "output_type": "stream",
     "text": [
      "Sine sweep guardado en 'audios/anechoic\\sine_sweep_24bit.wav'\n"
     ]
    }
   ],
   "source": [
    "import numpy as np\n",
    "import soundfile as sf\n",
    "import os\n",
    "\n",
    "# Parámetros del sine sweep\n",
    "fs = 48000  # Frecuencia de muestreo en Hz\n",
    "duration = 15  # Duración en segundos\n",
    "f_start = 20  # Frecuencia inicial en Hz\n",
    "f_end = 20000  # Frecuencia final en Hz\n",
    "\n",
    "# Generar el tiempo\n",
    "t = np.linspace(0, duration, int(fs * duration))\n",
    "\n",
    "# Crear el sine sweep usando una exponencial\n",
    "k = np.log(f_end / f_start) / duration\n",
    "sweep = np.sin(2 * np.pi * f_start * ((np.exp(k * t) - 1) / k))\n",
    "\n",
    "# Convertir a 24 bits (int32 con escala de 24 bits)\n",
    "sweep_int32 = np.int32(sweep * (2**23 - 1))  # Escalado para 24 bits\n",
    "\n",
    "# Definir la ruta de guardado\n",
    "output_dir = \"audios/anechoic\"\n",
    "os.makedirs(output_dir, exist_ok=True)  # Crear la carpeta si no existe\n",
    "output_path = os.path.join(output_dir, \"sine_sweep_24bit.wav\")\n",
    "\n",
    "# Guardar el archivo en formato WAV con 24 bits\n",
    "sf.write(output_path, sweep_int32, fs, subtype=\"PCM_24\")\n",
    "\n",
    "print(f\"Sine sweep guardado en '{output_path}'\")\n"
   ]
  }
 ],
 "metadata": {
  "kernelspec": {
   "display_name": ".venv",
   "language": "python",
   "name": "python3"
  },
  "language_info": {
   "codemirror_mode": {
    "name": "ipython",
    "version": 3
   },
   "file_extension": ".py",
   "mimetype": "text/x-python",
   "name": "python",
   "nbconvert_exporter": "python",
   "pygments_lexer": "ipython3",
   "version": "3.13.5"
  }
 },
 "nbformat": 4,
 "nbformat_minor": 5
}
