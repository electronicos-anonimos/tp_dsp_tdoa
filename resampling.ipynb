{
 "cells": [
  {
   "cell_type": "code",
   "execution_count": 5,
   "id": "9677f458",
   "metadata": {},
   "outputs": [
    {
     "name": "stdout",
     "output_type": "stream",
     "text": [
      "✅ Audio guardado en: audios/anechoic/audio_anecoico_corto_96000.wav\n"
     ]
    }
   ],
   "source": [
    "import resampy\n",
    "import soundfile as sf\n",
    "import os\n",
    "\n",
    "# 📁 Ruta de entrada\n",
    "input_path = \"audios/anechoic/audio_anecoico_corto.wav\"\n",
    "\n",
    "# 🆗 Nuevo sample rate deseado\n",
    "nuevo_sr = 96000  # podés cambiarlo a lo que necesites (ej: 8000 para downsampling, 48000 para oversampling)\n",
    "\n",
    "# 📥 Cargar audio\n",
    "audio, sr_original = sf.read(input_path)\n",
    "\n",
    "# 🔄 Resamplear\n",
    "audio_resampleado = resampy.resample(audio, sr_original, nuevo_sr)\n",
    "\n",
    "# 💾 Guardar nuevo archivo\n",
    "nombre_output = f\"audio_anecoico_corto_{nuevo_sr}.wav\"\n",
    "output_path = os.path.join(\"audios/anechoic/\", nombre_output)\n",
    "sf.write(output_path, audio_resampleado, nuevo_sr)\n",
    "\n",
    "print(f\"✅ Audio guardado en: {output_path}\")\n"
   ]
  }
 ],
 "metadata": {
  "kernelspec": {
   "display_name": ".venv",
   "language": "python",
   "name": "python3"
  },
  "language_info": {
   "codemirror_mode": {
    "name": "ipython",
    "version": 3
   },
   "file_extension": ".py",
   "mimetype": "text/x-python",
   "name": "python",
   "nbconvert_exporter": "python",
   "pygments_lexer": "ipython3",
   "version": "3.13.1"
  }
 },
 "nbformat": 4,
 "nbformat_minor": 5
}
