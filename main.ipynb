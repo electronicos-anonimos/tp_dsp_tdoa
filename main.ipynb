{
 "cells": [
  {
   "cell_type": "markdown",
   "id": "e34ede9d",
   "metadata": {},
   "source": [
    "# Estimación de dirección de arribo de fuentes sonoras "
   ]
  },
  {
   "cell_type": "code",
   "execution_count": 14,
   "id": "725ba5dc",
   "metadata": {},
   "outputs": [],
   "source": [
    "import numpy as np\n",
    "import matplotlib.pyplot as plt\n",
    "import soundfile as sf\n",
    "from tdoa_py import correlation, simulation_room"
   ]
  },
  {
   "cell_type": "markdown",
   "id": "83a04e6b",
   "metadata": {},
   "source": [
    "## Carga de audios anecoicos"
   ]
  },
  {
   "cell_type": "code",
   "execution_count": 19,
   "id": "3f1eabe0",
   "metadata": {},
   "outputs": [
    {
     "name": "stdout",
     "output_type": "stream",
     "text": [
      "Fuente en: x=85.36, y=85.36, z=1.20\n"
     ]
    }
   ],
   "source": [
    "angle, wavs = simulation_room.sim_room_Nmics(\n",
    "    wav_path = 'files/anechoic/Flamenco1_U89.wav',\n",
    "    out_dir = 'files/pyroom_mod',\n",
    "    fs=48000,\n",
    "\n",
    "    room_dim=(100, 100, 100),\n",
    "    rt60=3,\n",
    "    snr_db=70,\n",
    "\n",
    "    n_mics=4,\n",
    "    mic_d=0.1,\n",
    "    mic_z=1.2,\n",
    "    mic_directivity='omni',\n",
    "\n",
    "    src_dist=50.0,\n",
    "    src_az_deg=45.0,\n",
    "    src_z=1.2\n",
    ")"
   ]
  },
  {
   "cell_type": "code",
   "execution_count": null,
   "id": "c44d4488",
   "metadata": {},
   "outputs": [],
   "source": [
    "\n",
    "avg_angle_deg, avg_tdoa, hemi_avgs = estimate_doa_from_wavs(\n",
    "    wav_folder = r'C:\\Users\\faust\\Desktop\\DSP\\Trabajo Práctico\\Audios Room',\n",
    "    mic_d = 0.1,\n",
    "    fs = 44100\n",
    ")"
   ]
  }
 ],
 "metadata": {
  "kernelspec": {
   "display_name": ".venv",
   "language": "python",
   "name": "python3"
  },
  "language_info": {
   "codemirror_mode": {
    "name": "ipython",
    "version": 3
   },
   "file_extension": ".py",
   "mimetype": "text/x-python",
   "name": "python",
   "nbconvert_exporter": "python",
   "pygments_lexer": "ipython3",
   "version": "3.13.1"
  }
 },
 "nbformat": 4,
 "nbformat_minor": 5
}
