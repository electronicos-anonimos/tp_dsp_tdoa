{
 "cells": [
  {
   "cell_type": "code",
   "execution_count": 4,
   "id": "3dadf20b",
   "metadata": {},
   "outputs": [
    {
     "name": "stdout",
     "output_type": "stream",
     "text": [
      "Archivo guardado en: audios/anechoic\\impulse.wav\n"
     ]
    }
   ],
   "source": [
    "import numpy as np\n",
    "import os\n",
    "import soundfile as sf\n",
    "\n",
    "def generar_explosion(fs=44100, duracion_segundos=1.0, amplitud=0.95, decaimiento_ms=20):\n",
    "    \"\"\"\n",
    "    Genera un sonido tipo explosión o disparo (impulso amortiguado).\n",
    "    \"\"\"\n",
    "    muestras_totales = int(fs * duracion_segundos)\n",
    "    señal = np.zeros(muestras_totales)\n",
    "\n",
    "    # Tiempo de decaimiento en muestras\n",
    "    muestras_decaimiento = int(fs * (decaimiento_ms / 1000))\n",
    "\n",
    "    # Generar un pulso aleatorio (ruido blanco) corto\n",
    "    pulso = np.random.uniform(-1, 1, muestras_decaimiento)\n",
    "\n",
    "    # Aplicar decaimiento exponencial\n",
    "    envolvente = np.exp(-np.linspace(0, 5, muestras_decaimiento))  # más lento = más \"boom\"\n",
    "    pulso *= envolvente * amplitud\n",
    "\n",
    "    # Insertar el pulso al principio de la señal\n",
    "    señal[:muestras_decaimiento] = pulso\n",
    "\n",
    "    return señal\n",
    "\n",
    "def guardar_senal(senal, fs, carpeta_salida, nombre_archivo=\"impulse.wav\"):\n",
    "    os.makedirs(carpeta_salida, exist_ok=True)\n",
    "    ruta_archivo = os.path.join(carpeta_salida, nombre_archivo)\n",
    "    sf.write(ruta_archivo, senal, fs)\n",
    "    print(f\"Archivo guardado en: {ruta_archivo}\")\n",
    "\n",
    "# Parámetros\n",
    "fs = 48000\n",
    "duracion = 1.0  # duración total del archivo\n",
    "carpeta_salida = \"audios/anechoic\"\n",
    "\n",
    "# Generación y guardado\n",
    "senal_explosion = generar_explosion(fs=fs)\n",
    "guardar_senal(senal_explosion, fs, carpeta_salida)\n"
   ]
  }
 ],
 "metadata": {
  "kernelspec": {
   "display_name": ".venv",
   "language": "python",
   "name": "python3"
  },
  "language_info": {
   "codemirror_mode": {
    "name": "ipython",
    "version": 3
   },
   "file_extension": ".py",
   "mimetype": "text/x-python",
   "name": "python",
   "nbconvert_exporter": "python",
   "pygments_lexer": "ipython3",
   "version": "3.12.1"
  }
 },
 "nbformat": 4,
 "nbformat_minor": 5
}
