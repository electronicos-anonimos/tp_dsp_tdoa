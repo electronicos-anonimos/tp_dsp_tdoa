{
 "cells": [
  {
   "cell_type": "markdown",
   "id": "55117002",
   "metadata": {},
   "source": [
    "# Estimación de dirección de arribo de fuentes sonoras "
   ]
  },
  {
   "cell_type": "code",
   "execution_count": 4,
   "id": "998a077c",
   "metadata": {},
   "outputs": [],
   "source": [
    "from tdoa_py import correlation, simulation_room"
   ]
  },
  {
   "cell_type": "code",
   "execution_count": 5,
   "id": "1ea07047",
   "metadata": {},
   "outputs": [
    {
     "name": "stdout",
     "output_type": "stream",
     "text": [
      "Fuente en: x=85.36, y=85.36, z=1.20\n"
     ]
    }
   ],
   "source": [
    "angle, wavs = simulation_room.sim_room_Nmics(\n",
    "    wav_path = 'audios/anechoic/audio_anecoico_corto.wav',\n",
    "    out_dir = 'audios/output/audio_corto',\n",
    "    fs=48000,\n",
    "\n",
    "    room_dim=(100, 100, 100),\n",
    "    rt60=3,\n",
    "    snr_db=70,\n",
    "\n",
    "    n_mics=4,\n",
    "    mic_d=0.1,\n",
    "    mic_z=1.2,\n",
    "    mic_directivity='omni',\n",
    "\n",
    "    src_dist=50.0,\n",
    "    src_az_deg=45.0,\n",
    "    src_z=1.2\n",
    ")"
   ]
  },
  {
   "cell_type": "code",
   "execution_count": 6,
   "id": "66a6abce",
   "metadata": {},
   "outputs": [
    {
     "name": "stdout",
     "output_type": "stream",
     "text": [
      "Mic 0: TDOA = 0.000417 s, Ángulo estimado = 44.39°\n",
      "Mic 1: TDOA = 0.000208 s, Ángulo estimado = 44.39°\n",
      "Mic 3: TDOA = -0.000208 s, Ángulo estimado = 224.39°\n",
      "\n",
      "Hemisferio dominante: H1\n",
      "H1: Promedio = 44.39°\n",
      "H2: Promedio = 224.39°\n"
     ]
    }
   ],
   "source": [
    "\n",
    "avg_angle_deg, avg_tdoa, hemi_avgs = correlation.estimate_doa_from_wavs(\n",
    "    wav_folder = 'audios/output/audio_corto',\n",
    "    mic_d = 0.1,\n",
    "    fs = 48000\n",
    ")\n"
   ]
  },
  {
   "cell_type": "markdown",
   "id": "dfcefa8d",
   "metadata": {},
   "source": []
  }
 ],
 "metadata": {
  "kernelspec": {
   "display_name": ".venv",
   "language": "python",
   "name": "python3"
  },
  "language_info": {
   "codemirror_mode": {
    "name": "ipython",
    "version": 3
   },
   "file_extension": ".py",
   "mimetype": "text/x-python",
   "name": "python",
   "nbconvert_exporter": "python",
   "pygments_lexer": "ipython3",
   "version": "3.12.1"
  }
 },
 "nbformat": 4,
 "nbformat_minor": 5
}
