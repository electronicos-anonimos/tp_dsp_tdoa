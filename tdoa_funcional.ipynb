{
 "cells": [
  {
   "cell_type": "markdown",
   "id": "55117002",
   "metadata": {},
   "source": [
    "# Estimación de dirección de arribo de fuentes sonoras "
   ]
  },
  {
   "cell_type": "code",
   "execution_count": 1,
   "id": "998a077c",
   "metadata": {},
   "outputs": [],
   "source": [
    "import numpy as np\n",
    "import pandas as pd\n",
    "import gspread\n",
    "from oauth2client.service_account import ServiceAccountCredentials\n",
    "from tdoa_py import correlation, simulation_room"
   ]
  },
  {
   "cell_type": "code",
   "execution_count": 2,
   "id": "429663ba",
   "metadata": {},
   "outputs": [
    {
     "data": {
      "text/html": [
       "<div>\n",
       "<style scoped>\n",
       "    .dataframe tbody tr th:only-of-type {\n",
       "        vertical-align: middle;\n",
       "    }\n",
       "\n",
       "    .dataframe tbody tr th {\n",
       "        vertical-align: top;\n",
       "    }\n",
       "\n",
       "    .dataframe thead th {\n",
       "        text-align: right;\n",
       "    }\n",
       "</style>\n",
       "<table border=\"1\" class=\"dataframe\">\n",
       "  <thead>\n",
       "    <tr style=\"text-align: right;\">\n",
       "      <th></th>\n",
       "      <th>sim_name</th>\n",
       "      <th>method</th>\n",
       "      <th>audio</th>\n",
       "      <th>room_x</th>\n",
       "      <th>room_y</th>\n",
       "      <th>room_z</th>\n",
       "      <th>rt60</th>\n",
       "      <th>snr_db</th>\n",
       "      <th>n_mics</th>\n",
       "      <th>mic_d</th>\n",
       "      <th>...</th>\n",
       "      <th>src_az_deg</th>\n",
       "      <th>src_z</th>\n",
       "      <th>theta_1</th>\n",
       "      <th>theta_2</th>\n",
       "      <th>theta_3</th>\n",
       "      <th>avg_angle_deg</th>\n",
       "      <th>avg_tdoa</th>\n",
       "      <th>hemi_1</th>\n",
       "      <th>hemi_2</th>\n",
       "      <th>room_dim</th>\n",
       "    </tr>\n",
       "  </thead>\n",
       "  <tbody>\n",
       "    <tr>\n",
       "      <th>0</th>\n",
       "      <td>sim1</td>\n",
       "      <td>classic</td>\n",
       "      <td>audio_anecoico_corto.wav</td>\n",
       "      <td>100</td>\n",
       "      <td>100</td>\n",
       "      <td>100</td>\n",
       "      <td>3</td>\n",
       "      <td>70</td>\n",
       "      <td>4</td>\n",
       "      <td>0.1</td>\n",
       "      <td>...</td>\n",
       "      <td>15</td>\n",
       "      <td>1.2</td>\n",
       "      <td></td>\n",
       "      <td></td>\n",
       "      <td></td>\n",
       "      <td>18.499357</td>\n",
       "      <td>0.000188</td>\n",
       "      <td>18.499357</td>\n",
       "      <td>201.726984</td>\n",
       "      <td>(100, 100, 100)</td>\n",
       "    </tr>\n",
       "  </tbody>\n",
       "</table>\n",
       "<p>1 rows × 23 columns</p>\n",
       "</div>"
      ],
      "text/plain": [
       "  sim_name   method                     audio  room_x  room_y  room_z  rt60  \\\n",
       "0     sim1  classic  audio_anecoico_corto.wav     100     100     100     3   \n",
       "\n",
       "   snr_db  n_mics  mic_d  ...  src_az_deg src_z  theta_1  theta_2  theta_3  \\\n",
       "0      70       4    0.1  ...          15   1.2                              \n",
       "\n",
       "  avg_angle_deg  avg_tdoa     hemi_1      hemi_2         room_dim  \n",
       "0     18.499357  0.000188  18.499357  201.726984  (100, 100, 100)  \n",
       "\n",
       "[1 rows x 23 columns]"
      ]
     },
     "execution_count": 2,
     "metadata": {},
     "output_type": "execute_result"
    }
   ],
   "source": [
    "# Configurar credenciales\n",
    "scope = [\"https://spreadsheets.google.com/feeds\", \"https://www.googleapis.com/auth/drive\"]\n",
    "creds = ServiceAccountCredentials.from_json_keyfile_name(\"simulationsdoa-credenciales.json\", scope)\n",
    "client = gspread.authorize(creds)\n",
    "\n",
    "# Abrir la hoja de cálculo\n",
    "spreadsheet = client.open_by_url(\"https://docs.google.com/spreadsheets/d/13XTDng98P99pfexK78Dd4Gud1CzZwO7PfVhpyIG1jCM/edit?gid=0#gid=0\")\n",
    "sheet = spreadsheet.sheet1\n",
    "\n",
    "# Leer datos\n",
    "data = sheet.get_all_records()\n",
    "df_simulations = pd.DataFrame(data)\n",
    "\n",
    "df_simulations[\"room_dim\"] = df_simulations.apply(lambda row: (row[\"room_x\"], row[\"room_y\"], row[\"room_z\"]), axis=1)\n",
    "df_simulations.head() # Verificar el resultado\n",
    "\n"
   ]
  },
  {
   "cell_type": "code",
   "execution_count": 3,
   "id": "03362553",
   "metadata": {},
   "outputs": [],
   "source": [
    "# df_simulations = pd.read_csv('simulations.csv')\n",
    "# df_simulations[\"room_dim\"] = df_simulations.apply(lambda row: (row[\"room_x\"], row[\"room_y\"], row[\"room_z\"]), axis=1)\n",
    "# df_simulations.head() # Verificar el resultado"
   ]
  },
  {
   "cell_type": "code",
   "execution_count": 4,
   "id": "1ea07047",
   "metadata": {},
   "outputs": [
    {
     "name": "stdout",
     "output_type": "stream",
     "text": [
      "Fuente en: x=98.30, y=62.94, z=1.20\n",
      "Mic 0: TDOA = 0.000562 s, Ángulo estimado = 15.27°\n",
      "Mic 1: TDOA = 0.000271 s, Ángulo estimado = 21.73°\n",
      "Mic 3: TDOA = -0.000271 s, Ángulo estimado = 201.73°\n",
      "\n",
      "Hemisferio dominante: H1\n",
      "H1: Promedio = 18.50°\n",
      "H2: Promedio = 201.73°\n",
      "[np.float64(15.271729393963701), np.float64(21.726983901452964), np.float64(201.72698390145297)]\n",
      "DataFrame guardado correctamente en Google Sheets.\n"
     ]
    }
   ],
   "source": [
    "for sim in df_simulations.itertuples():\n",
    "    angle, wavs = simulation_room.sim_room_Nmics(\n",
    "        wav_path = f'audios/anechoic/{sim.audio}',\n",
    "        out_dir = f'audios/output/{sim.sim_name}',\n",
    "        fs=48000,\n",
    "\n",
    "        room_dim=sim.room_dim,\n",
    "        rt60=sim.rt60,\n",
    "        snr_db=sim.snr_db,\n",
    "\n",
    "        n_mics=sim.n_mics,\n",
    "        mic_d=sim.mic_d,\n",
    "        mic_z=sim.mic_z,\n",
    "        mic_directivity=sim.mic_directivity,\n",
    "\n",
    "        src_dist=sim.src_dist,\n",
    "        src_az_deg=sim.src_az_deg,\n",
    "        src_z=sim.src_z\n",
    "    )\n",
    "    \n",
    "    avg_angle_deg, avg_tdoa, hemi_avgs, tdoas, angles = correlation.estimate_doa_from_wavs(\n",
    "    wav_folder = f'audios/output/{sim.sim_name}',\n",
    "    mic_d = sim.mic_d,\n",
    "    method = sim.method,\n",
    "    fs = 48000\n",
    "    )\n",
    "    \n",
    "    print(angles)\n",
    "    df_simulations['avg_angle_deg'] = avg_angle_deg\n",
    "    df_simulations['avg_tdoa'] = avg_tdoa\n",
    "    df_simulations['hemi_1'] = hemi_avgs['H1']\n",
    "    df_simulations['hemi_2'] = hemi_avgs['H2']\n",
    "    df_simulations['theta_1'] = angles[0]\n",
    "    df_simulations['theta_2'] = angles[1]\n",
    "    df_simulations['theta_3'] = angles[2]\n",
    "    \n",
    "\n",
    "# Convertir el DataFrame a una lista de listas\n",
    "df_simulations[\"room_dim\"] = df_simulations[\"room_dim\"].apply(lambda x: \",\".join(map(str, x)))\n",
    "data = [df_simulations.columns.values.tolist()] + df_simulations.values.tolist()\n",
    "\n",
    "# Escribir en la hoja de cálculo\n",
    "sheet.update(data)\n",
    "print(\"DataFrame guardado correctamente en Google Sheets.\")\n",
    "    \n"
   ]
  }
 ],
 "metadata": {
  "kernelspec": {
   "display_name": ".venv",
   "language": "python",
   "name": "python3"
  },
  "language_info": {
   "codemirror_mode": {
    "name": "ipython",
    "version": 3
   },
   "file_extension": ".py",
   "mimetype": "text/x-python",
   "name": "python",
   "nbconvert_exporter": "python",
   "pygments_lexer": "ipython3",
   "version": "3.12.1"
  }
 },
 "nbformat": 4,
 "nbformat_minor": 5
}
