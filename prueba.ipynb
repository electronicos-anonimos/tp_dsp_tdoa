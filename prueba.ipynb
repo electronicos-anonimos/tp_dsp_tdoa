{
 "cells": [
  {
   "cell_type": "code",
   "execution_count": 42,
   "id": "b75b20ac",
   "metadata": {},
   "outputs": [],
   "source": [
    "import numpy as np\n",
    "import soundfile as sf\n",
    "from scipy.signal import correlate\n",
    "from scipy.signal import correlation_lags"
   ]
  },
  {
   "cell_type": "code",
   "execution_count": 43,
   "id": "554032e8",
   "metadata": {},
   "outputs": [],
   "source": [
    "def estimate_doa(audio_file1, audio_file2, mic_distance=0.1, sound_speed=343.0, fs=None):\n",
    "    \"\"\"\n",
    "    Estima el ángulo de arribo (DOA) de una fuente sonora en campo lejano con dos micrófonos.\n",
    "\n",
    "    Parámetros:\n",
    "    - audio_file1, audio_file2: rutas a los archivos de audio (wav) grabados por los micrófonos.\n",
    "    - mic_distance: distancia D entre micrófonos en metros (default 0.1 m).\n",
    "    - sound_speed: velocidad del sonido en m/s (default 343 m/s).\n",
    "    - fs: frecuencia de muestreo. Si None, se toma del archivo.\n",
    "\n",
    "    Retorna:\n",
    "    - doa_angle_deg: ángulo estimado en grados (respecto al eje del array).\n",
    "    - tdoa: diferencia de tiempo estimada entre señales (en segundos).\n",
    "    \"\"\"\n",
    "\n",
    "    # Cargar audios\n",
    "    x1, fs1 = sf.read(audio_file1)\n",
    "    x2, fs2 = sf.read(audio_file2)\n",
    "\n",
    "    if fs is None:\n",
    "        fs = fs1\n",
    "    assert fs1 == fs2, \"Las frecuencias de muestreo deben coincidir.\"\n",
    "\n",
    "    # Asegurar igual longitud\n",
    "    # min_len = min(len(x1), len(x2))\n",
    "    # x1 = x1[:min_len]\n",
    "    # x2 = x2[:min_len]\n",
    "\n",
    "    # Correlación cruzada vía FFT\n",
    "    corr = correlate(x1, x2, mode='full', method='fft')\n",
    "    lags = correlation_lags(len(x1), len(x2), mode='full')\n",
    "    lag_max = lags[np.argmax(corr)]\n",
    "\n",
    "    # Calcular retardo temporal\n",
    "    tdoa = lag_max / fs\n",
    "    # Calcular ángulo\n",
    "    arg = sound_speed * tdoa / mic_distance\n",
    "    print(arg)\n",
    "    if abs(arg) > 1:\n",
    "        print(\"Advertencia: valor fuera del dominio de arccos, truncando.\")\n",
    "        arg = np.clip(arg, -1.0, 1.0)\n",
    "\n",
    "    angle_rad = np.arccos(arg)\n",
    "    doa_angle_deg = np.degrees(angle_rad)\n",
    "\n",
    "    return doa_angle_deg, tdoa"
   ]
  },
  {
   "cell_type": "code",
   "execution_count": 44,
   "id": "8f6cd8e3",
   "metadata": {},
   "outputs": [
    {
     "name": "stdout",
     "output_type": "stream",
     "text": [
      "-0.9472397569444445\n"
     ]
    },
    {
     "data": {
      "text/plain": [
       "(np.float64(161.30526885427213), np.float64(-0.33139583333333333))"
      ]
     },
     "execution_count": 44,
     "metadata": {},
     "output_type": "execute_result"
    }
   ],
   "source": [
    "estimate_doa('files/archivos_ejc1/piano_cerca.wav',\n",
    "             'files/archivos_ejc1/piano_lejos.wav',\n",
    "             mic_distance=120)"
   ]
  }
 ],
 "metadata": {
  "kernelspec": {
   "display_name": ".venv",
   "language": "python",
   "name": "python3"
  },
  "language_info": {
   "codemirror_mode": {
    "name": "ipython",
    "version": 3
   },
   "file_extension": ".py",
   "mimetype": "text/x-python",
   "name": "python",
   "nbconvert_exporter": "python",
   "pygments_lexer": "ipython3",
   "version": "3.12.1"
  }
 },
 "nbformat": 4,
 "nbformat_minor": 5
}
