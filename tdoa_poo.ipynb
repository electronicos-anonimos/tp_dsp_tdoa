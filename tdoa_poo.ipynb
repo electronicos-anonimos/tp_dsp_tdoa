{
 "cells": [
  {
   "cell_type": "markdown",
   "id": "55117002",
   "metadata": {},
   "source": [
    "# Estimación de dirección de arribo de fuentes sonoras "
   ]
  },
  {
   "cell_type": "code",
   "execution_count": 1,
   "id": "998a077c",
   "metadata": {},
   "outputs": [],
   "source": [
    "from tdoa_py.tdoa import SimulationRoom, EstimateDOA"
   ]
  },
  {
   "cell_type": "code",
   "execution_count": 2,
   "id": "c85e82bc",
   "metadata": {},
   "outputs": [
    {
     "name": "stdout",
     "output_type": "stream",
     "text": [
      "Fuente en: x=85.36, y=85.36, z=1.20\n"
     ]
    }
   ],
   "source": [
    "room = SimulationRoom(room_dim=(100, 100, 100), rt60= 3, snr_db=70, simulation_name=\"Prueba1\", fs=48000)\n",
    "room.array_microphone(n_mics=4, mic_d=0.1, mic_z=1.2, mic_directivity='omni')\n",
    "room.load_wav('audios/anechoic', 'audio_anecoico_corto.wav')\n",
    "room.source(src_dist=50, src_az_deg=45, src_z=1.2)\n",
    "room.run()\n",
    "wav_simulate = room.save_simulation('audios/output')"
   ]
  },
  {
   "cell_type": "code",
   "execution_count": 3,
   "id": "198fddcc",
   "metadata": {},
   "outputs": [],
   "source": [
    "# Instanciar la clase EstimateDOA\n",
    "doa_estimator = EstimateDOA(mic_d=0.1, fs=48000, wav_files=wav_simulate)\n",
    "\n",
    "# Cargar señales\n",
    "doa_estimator.load_signals()\n",
    "\n",
    "# Aplicar correlación cruzada clásica\n",
    "# avg_angle, avg_tdoa, hemi_avgs = doa_estimator.cross_correlation_classic()\n",
    "\n",
    "# # Mostrar resultados\n",
    "# print(f\"\\nÁngulo promedio estimado: {avg_angle:.2f}°\")\n",
    "# print(f\"TDOA promedio estimado: {avg_tdoa:.6f} s\")\n",
    "# print(f\"Promedios por hemisferio: {hemi_avgs}\")"
   ]
  },
  {
   "cell_type": "code",
   "execution_count": 4,
   "id": "3e158a3c",
   "metadata": {},
   "outputs": [
    {
     "name": "stdout",
     "output_type": "stream",
     "text": [
      "\n",
      "Método: CLASSIC | Hemisferio dominante: H1\n",
      "H1: Promedio = 44.39°\n",
      "H2: Promedio = 224.39°\n"
     ]
    },
    {
     "data": {
      "text/plain": [
       "(np.float64(44.39093778146574),\n",
       " np.float64(0.0001388888888888889),\n",
       " {'H1': np.float64(44.39093778146574), 'H2': np.float64(224.3909377814657)})"
      ]
     },
     "execution_count": 4,
     "metadata": {},
     "output_type": "execute_result"
    }
   ],
   "source": [
    "doa_estimator.estimate_doa(method=\"classic\")"
   ]
  },
  {
   "cell_type": "code",
   "execution_count": 5,
   "id": "2ff05f0e",
   "metadata": {},
   "outputs": [
    {
     "name": "stdout",
     "output_type": "stream",
     "text": [
      "\n",
      "Método: PHAT | Hemisferio dominante: H2\n",
      "H2: Promedio = 196.66°\n"
     ]
    },
    {
     "data": {
      "text/plain": [
       "(np.float64(196.65825348421194),\n",
       " np.float64(-4.7267013888888885),\n",
       " {'H2': np.float64(196.65825348421194)})"
      ]
     },
     "execution_count": 5,
     "metadata": {},
     "output_type": "execute_result"
    }
   ],
   "source": [
    "doa_estimator.estimate_doa(method=\"phat\")"
   ]
  },
  {
   "cell_type": "code",
   "execution_count": 6,
   "id": "aad61971",
   "metadata": {},
   "outputs": [
    {
     "name": "stdout",
     "output_type": "stream",
     "text": [
      "\n",
      "Método: SCOT | Hemisferio dominante: H2\n",
      "H2: Promedio = 196.66°\n"
     ]
    },
    {
     "data": {
      "text/plain": [
       "(np.float64(196.65825348421194),\n",
       " np.float64(-4.7267013888888885),\n",
       " {'H2': np.float64(196.65825348421194)})"
      ]
     },
     "execution_count": 6,
     "metadata": {},
     "output_type": "execute_result"
    }
   ],
   "source": [
    "doa_estimator.estimate_doa(method=\"scot\")"
   ]
  },
  {
   "cell_type": "markdown",
   "id": "dfcefa8d",
   "metadata": {},
   "source": []
  }
 ],
 "metadata": {
  "kernelspec": {
   "display_name": ".venv",
   "language": "python",
   "name": "python3"
  },
  "language_info": {
   "codemirror_mode": {
    "name": "ipython",
    "version": 3
   },
   "file_extension": ".py",
   "mimetype": "text/x-python",
   "name": "python",
   "nbconvert_exporter": "python",
   "pygments_lexer": "ipython3",
   "version": "3.12.1"
  }
 },
 "nbformat": 4,
 "nbformat_minor": 5
}
