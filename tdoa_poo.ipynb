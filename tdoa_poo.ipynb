{
 "cells": [
  {
   "cell_type": "markdown",
   "id": "55117002",
   "metadata": {},
   "source": [
    "# Estimación de dirección de arribo de fuentes sonoras "
   ]
  },
  {
   "cell_type": "code",
   "execution_count": 6,
   "id": "998a077c",
   "metadata": {},
   "outputs": [],
   "source": [
    "from tdoa_py.tdoa import SimulationRoom, EstimateDOA"
   ]
  },
  {
   "cell_type": "code",
   "execution_count": 7,
   "id": "c85e82bc",
   "metadata": {},
   "outputs": [
    {
     "name": "stdout",
     "output_type": "stream",
     "text": [
      "Fuente en: x=85.36, y=85.36, z=1.20\n"
     ]
    }
   ],
   "source": [
    "room = SimulationRoom(room_dim=(100, 100, 100), rt60= 3, snr_db=70, simulation_name=\"Prueba1\", fs=48000)\n",
    "room.array_microphone(n_mics=4, mic_d=0.1, mic_z=1.2, mic_directivity='omni')\n",
    "room.load_wav('audios/anechoic', 'audio_anecoico_corto.wav')\n",
    "room.source(src_dist=50, src_az_deg=45, src_z=1.2)\n",
    "room.run()\n",
    "wav_simulate = room.save_simulation('audios/output')"
   ]
  },
  {
   "cell_type": "code",
   "execution_count": 8,
   "id": "0ac1bcd0",
   "metadata": {},
   "outputs": [
    {
     "name": "stdout",
     "output_type": "stream",
     "text": [
      "4\n",
      "Mic 0: TDOA = 0.000417 s, Ángulo estimado = 44.39°\n",
      "Mic 1: TDOA = 0.000208 s, Ángulo estimado = 44.39°\n",
      "Mic 3: TDOA = -0.000208 s, Ángulo estimado = 224.39°\n",
      "\n",
      "Hemisferio dominante: H1\n",
      "H1: Promedio = 44.39°\n",
      "H2: Promedio = 224.39°\n",
      "44.39093778146574\n",
      "0.0001388888888888889\n",
      "{'H1': np.float64(44.39093778146574), 'H2': np.float64(224.3909377814657)}\n"
     ]
    }
   ],
   "source": [
    "doa = EstimateDOA(mic_d = 0.1, fs=48000, wav_files= wav_simulate)\n",
    "doa.load_signals()\n",
    "doa.cross_correlation_classic()\n",
    "print(doa.avg_angle_deg)\n",
    "print(doa.avg_tdoa)\n",
    "print(doa.hemi_avgs)"
   ]
  },
  {
   "cell_type": "markdown",
   "id": "dfcefa8d",
   "metadata": {},
   "source": []
  }
 ],
 "metadata": {
  "kernelspec": {
   "display_name": ".venv",
   "language": "python",
   "name": "python3"
  },
  "language_info": {
   "codemirror_mode": {
    "name": "ipython",
    "version": 3
   },
   "file_extension": ".py",
   "mimetype": "text/x-python",
   "name": "python",
   "nbconvert_exporter": "python",
   "pygments_lexer": "ipython3",
   "version": "3.12.1"
  }
 },
 "nbformat": 4,
 "nbformat_minor": 5
}
