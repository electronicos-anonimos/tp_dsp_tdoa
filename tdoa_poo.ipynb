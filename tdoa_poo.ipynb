{
 "cells": [
  {
   "cell_type": "markdown",
   "id": "55117002",
   "metadata": {},
   "source": [
    "# Estimación de dirección de arribo de fuentes sonoras "
   ]
  },
  {
   "cell_type": "code",
   "execution_count": 1,
   "id": "998a077c",
   "metadata": {},
   "outputs": [],
   "source": [
    "from tdoa_py.tdoa import SimulationRoom"
   ]
  },
  {
   "cell_type": "code",
   "execution_count": null,
   "id": "c85e82bc",
   "metadata": {},
   "outputs": [
    {
     "name": "stdout",
     "output_type": "stream",
     "text": [
      "Fuente en: x=85.36, y=85.36, z=1.20\n"
     ]
    },
    {
     "data": {
      "text/plain": [
       "['audios/output\\\\Prueba1\\\\mic_1_Prueba1.wav',\n",
       " 'audios/output\\\\Prueba1\\\\mic_2_Prueba1.wav',\n",
       " 'audios/output\\\\Prueba1\\\\mic_3_Prueba1.wav',\n",
       " 'audios/output\\\\Prueba1\\\\mic_4_Prueba1.wav']"
      ]
     },
     "execution_count": 4,
     "metadata": {},
     "output_type": "execute_result"
    }
   ],
   "source": [
    "room = SimulationRoom(room_dim=(100, 100, 100), rt60= 3, snr_db=70, simulation_name=\"Prueba1\", fs=48000)\n",
    "room.array_microphone(n_mics=4, mic_d=0.1, mic_z=1.2, mic_directivity='omni')\n",
    "room.load_wav('audios/anechoic', 'audio_anecoico_corto.wav')\n",
    "room.source(src_dist=50, src_az_deg=45, src_z=1.2)\n",
    "room.run()\n",
    "room.save_simulation('audios/output')"
   ]
  },
  {
   "cell_type": "code",
   "execution_count": null,
   "id": "0ac1bcd0",
   "metadata": {},
   "outputs": [],
   "source": []
  },
  {
   "cell_type": "markdown",
   "id": "dfcefa8d",
   "metadata": {},
   "source": []
  }
 ],
 "metadata": {
  "kernelspec": {
   "display_name": ".venv",
   "language": "python",
   "name": "python3"
  },
  "language_info": {
   "codemirror_mode": {
    "name": "ipython",
    "version": 3
   },
   "file_extension": ".py",
   "mimetype": "text/x-python",
   "name": "python",
   "nbconvert_exporter": "python",
   "pygments_lexer": "ipython3",
   "version": "3.12.1"
  }
 },
 "nbformat": 4,
 "nbformat_minor": 5
}
